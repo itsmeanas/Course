{
  "metadata": {
    "kernelspec": {
      "name": "python",
      "display_name": "Python (Pyodide)",
      "language": "python"
    },
    "language_info": {
      "codemirror_mode": {
        "name": "python",
        "version": 3
      },
      "file_extension": ".py",
      "mimetype": "text/x-python",
      "name": "python",
      "nbconvert_exporter": "python",
      "pygments_lexer": "ipython3",
      "version": "3.8"
    }
  },
  "nbformat_minor": 4,
  "nbformat": 4,
  "cells": [
    {
      "cell_type": "markdown",
      "source": "# Title of the Notebook",
      "metadata": {}
    },
    {
      "cell_type": "markdown",
      "source": "# My Data Science Notebook",
      "metadata": {}
    },
    {
      "cell_type": "markdown",
      "source": "## Introduction\nThis notebook is designed to showcase basic skills in Jupyter Notebook involving markdown and code cells.\n",
      "metadata": {}
    },
    {
      "cell_type": "markdown",
      "source": "## Data Science Languages\n- Python\n- R\n- SQL\n- Java\n- Scala\n",
      "metadata": {}
    },
    {
      "cell_type": "markdown",
      "source": "## Data Science Libraries\n- Pandas\n- NumPy\n- Scikit-Learn\n- TensorFlow\n- Matplotlib\n",
      "metadata": {}
    },
    {
      "cell_type": "markdown",
      "source": "## Data Science Tools\n| Tool | Type |\n|------|------|\n| Jupyter Notebook | Development Environment |\n| Pandas | Library |\n| Scikit-Learn | Library |\n| TensorFlow | Library |\n| Hadoop | Framework |\n",
      "metadata": {}
    },
    {
      "cell_type": "markdown",
      "source": "## Arithmetic in Python\nArithmetic operations are essential for data manipulation in Python.\n",
      "metadata": {}
    },
    {
      "cell_type": "code",
      "source": "# Example of arithmetic operations\nmultiplication = 5 * 5\naddition = 10 + 15\nprint(\"Multiplication Result:\", multiplication)\nprint(\"Addition Result:\", addition)\n",
      "metadata": {
        "trusted": true
      },
      "outputs": [
        {
          "name": "stdout",
          "text": "Multiplication Result: 25\nAddition Result: 25\n",
          "output_type": "stream"
        }
      ],
      "execution_count": 3
    },
    {
      "cell_type": "code",
      "source": "# Convert minutes to hours\nminutes = 150\nhours = minutes / 60\nprint(f\"{minutes} minutes is equal to {hours} hours.\")\n",
      "metadata": {
        "trusted": true
      },
      "outputs": [
        {
          "name": "stdout",
          "text": "150 minutes is equal to 2.5 hours.\n",
          "output_type": "stream"
        }
      ],
      "execution_count": 4
    },
    {
      "cell_type": "markdown",
      "source": "## Objectives\n- Demonstrate markdown skills.\n- Showcase basic Python operations.\n- Share and explain a Jupyter Notebook.\n",
      "metadata": {}
    },
    {
      "cell_type": "markdown",
      "source": "## Author\n- Anas AMIAR\n",
      "metadata": {}
    },
    {
      "cell_type": "code",
      "source": "",
      "metadata": {
        "trusted": true
      },
      "outputs": [],
      "execution_count": null
    }
  ]
}